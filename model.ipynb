{
  "nbformat": 4,
  "nbformat_minor": 0,
  "metadata": {
    "language_info": {
      "codemirror_mode": {
        "name": "ipython",
        "version": 3
      },
      "file_extension": ".py",
      "mimetype": "text/x-python",
      "name": "python",
      "nbconvert_exporter": "python",
      "pygments_lexer": "ipython3",
      "version": "3.8.5-final"
    },
    "orig_nbformat": 2,
    "kernelspec": {
      "name": "python3",
      "display_name": "Python 3.8.5 64-bit",
      "metadata": {
        "interpreter": {
          "hash": "31f2aee4e71d21fbe5cf8b01ff0e069b9275f58929596ceb00d14d90e3e16cd6"
        }
      }
    },
    "colab": {
      "name": "Model.ipynb",
      "provenance": [],
      "collapsed_sections": []
    }
  },
  "cells": [
    {
      "cell_type": "markdown",
      "metadata": {
        "id": "eKYv1Tuw7-v1"
      },
      "source": [
        "## Model Developmemt and Performance Analysis"
      ]
    },
    {
      "cell_type": "markdown",
      "metadata": {
        "id": "x0S-9wPw8H5G"
      },
      "source": [
        "### Methodology"
      ]
    },
    {
      "cell_type": "markdown",
      "metadata": {
        "id": "K3YINABz613U"
      },
      "source": [
        "Number of classes are selected and data is filtered from the original database. After cleaning the description, various text feature extraction methods are applied and finally various classifiers are trained on training split and the results are tested on the testing split of data.\n",
        "\n"
      ]
    },
    {
      "cell_type": "markdown",
      "metadata": {
        "id": "7vWleLns7mEQ"
      },
      "source": [
        "For evaluation we will consider, F1 score as the metrices as our data is imbalanced. Therefore we need to consider both precision and recall and as all classes are equally likely we would prefer F1-score as a evaluation metrices"
      ]
    },
    {
      "cell_type": "markdown",
      "metadata": {
        "id": "MK1vV5Jc8L34"
      },
      "source": [
        "### Data Selection and Description Cleaning"
      ]
    },
    {
      "cell_type": "code",
      "metadata": {
        "id": "5ZvkT8lgF_4y"
      },
      "source": [
        "import pandas as pd \n",
        "import numpy as np \n",
        "import string\n",
        "import nltk"
      ],
      "execution_count": null,
      "outputs": []
    },
    {
      "cell_type": "code",
      "metadata": {
        "colab": {
          "base_uri": "https://localhost:8080/"
        },
        "id": "jbm1eXi2H0Zb",
        "outputId": "8b1c7e3f-87bd-44f0-fa1c-1d73c9c545e1"
      },
      "source": [
        "from google.colab import drive\n",
        "drive.mount('/content/drive')"
      ],
      "execution_count": null,
      "outputs": [
        {
          "output_type": "stream",
          "text": [
            "Mounted at /content/drive\n"
          ],
          "name": "stdout"
        }
      ]
    },
    {
      "cell_type": "code",
      "metadata": {
        "colab": {
          "base_uri": "https://localhost:8080/"
        },
        "id": "WH38975OIYDo",
        "outputId": "f321885d-8105-496f-b757-f3305ae8b6a4"
      },
      "source": [
        "nltk.download('stopwords')"
      ],
      "execution_count": null,
      "outputs": [
        {
          "output_type": "stream",
          "text": [
            "[nltk_data] Downloading package stopwords to /root/nltk_data...\n",
            "[nltk_data]   Unzipping corpora/stopwords.zip.\n"
          ],
          "name": "stdout"
        },
        {
          "output_type": "execute_result",
          "data": {
            "text/plain": [
              "True"
            ]
          },
          "metadata": {
            "tags": []
          },
          "execution_count": 10
        }
      ]
    },
    {
      "cell_type": "code",
      "metadata": {
        "colab": {
          "base_uri": "https://localhost:8080/",
          "height": 479
        },
        "id": "EYJbQkZeF_46",
        "outputId": "fcc46fb9-9bf0-4bf5-8e33-946c992e5fb3"
      },
      "source": [
        "data = pd.read_csv(\"/content/drive/MyDrive/Colab Notebooks/Intermidiate.csv\")\n",
        "data.head()"
      ],
      "execution_count": null,
      "outputs": [
        {
          "output_type": "execute_result",
          "data": {
            "text/html": [
              "<div>\n",
              "<style scoped>\n",
              "    .dataframe tbody tr th:only-of-type {\n",
              "        vertical-align: middle;\n",
              "    }\n",
              "\n",
              "    .dataframe tbody tr th {\n",
              "        vertical-align: top;\n",
              "    }\n",
              "\n",
              "    .dataframe thead th {\n",
              "        text-align: right;\n",
              "    }\n",
              "</style>\n",
              "<table border=\"1\" class=\"dataframe\">\n",
              "  <thead>\n",
              "    <tr style=\"text-align: right;\">\n",
              "      <th></th>\n",
              "      <th>uniq_id</th>\n",
              "      <th>crawl_timestamp</th>\n",
              "      <th>product_url</th>\n",
              "      <th>product_name</th>\n",
              "      <th>product_category_tree</th>\n",
              "      <th>pid</th>\n",
              "      <th>retail_price</th>\n",
              "      <th>discounted_price</th>\n",
              "      <th>image</th>\n",
              "      <th>is_FK_Advantage_product</th>\n",
              "      <th>description</th>\n",
              "      <th>product_rating</th>\n",
              "      <th>overall_rating</th>\n",
              "      <th>brand</th>\n",
              "      <th>product_specifications</th>\n",
              "      <th>year</th>\n",
              "      <th>month</th>\n",
              "      <th>discount%</th>\n",
              "      <th>Main_Category</th>\n",
              "    </tr>\n",
              "  </thead>\n",
              "  <tbody>\n",
              "    <tr>\n",
              "      <th>0</th>\n",
              "      <td>c2d766ca982eca8304150849735ffef9</td>\n",
              "      <td>2016-03-25 22:59:23+00:00</td>\n",
              "      <td>alisha-solid-women-s-cycling-shorts</td>\n",
              "      <td>Alisha Solid Women's Cycling Shorts</td>\n",
              "      <td>['[\"Clothing ', \" Women's Clothing \", ' Linger...</td>\n",
              "      <td>SRTEH2FF9KEDEFGF</td>\n",
              "      <td>999.0</td>\n",
              "      <td>379.0</td>\n",
              "      <td>[\"http://img5a.flixcart.com/image/short/u/4/a/...</td>\n",
              "      <td>False</td>\n",
              "      <td>Key Features of Alisha Solid Women's Cycling S...</td>\n",
              "      <td>0.0</td>\n",
              "      <td>0.0</td>\n",
              "      <td>Alisha</td>\n",
              "      <td>{\"product_specification\"=&gt;[{\"key\"=&gt;\"Number of ...</td>\n",
              "      <td>2016</td>\n",
              "      <td>3</td>\n",
              "      <td>62.06</td>\n",
              "      <td>Clothing</td>\n",
              "    </tr>\n",
              "    <tr>\n",
              "      <th>1</th>\n",
              "      <td>7f7036a6d550aaa89d34c77bd39a5e48</td>\n",
              "      <td>2016-03-25 22:59:23+00:00</td>\n",
              "      <td>fabhomedecor-fabric-double-sofa-bed</td>\n",
              "      <td>FabHomeDecor Fabric Double Sofa Bed</td>\n",
              "      <td>['[\"Furniture ', ' Living Room Furniture ', ' ...</td>\n",
              "      <td>SBEEH3QGU7MFYJFY</td>\n",
              "      <td>32157.0</td>\n",
              "      <td>22646.0</td>\n",
              "      <td>[\"http://img6a.flixcart.com/image/sofa-bed/j/f...</td>\n",
              "      <td>False</td>\n",
              "      <td>FabHomeDecor Fabric Double Sofa Bed (Finish Co...</td>\n",
              "      <td>0.0</td>\n",
              "      <td>0.0</td>\n",
              "      <td>FabHomeDecor</td>\n",
              "      <td>{\"product_specification\"=&gt;[{\"key\"=&gt;\"Installati...</td>\n",
              "      <td>2016</td>\n",
              "      <td>3</td>\n",
              "      <td>29.58</td>\n",
              "      <td>Furniture</td>\n",
              "    </tr>\n",
              "    <tr>\n",
              "      <th>2</th>\n",
              "      <td>f449ec65dcbc041b6ae5e6a32717d01b</td>\n",
              "      <td>2016-03-25 22:59:23+00:00</td>\n",
              "      <td>aw-bellies</td>\n",
              "      <td>AW Bellies</td>\n",
              "      <td>['[\"Footwear ', \" Women's Footwear \", ' Baller...</td>\n",
              "      <td>SHOEH4GRSUBJGZXE</td>\n",
              "      <td>999.0</td>\n",
              "      <td>499.0</td>\n",
              "      <td>[\"http://img5a.flixcart.com/image/shoe/7/z/z/r...</td>\n",
              "      <td>False</td>\n",
              "      <td>Key Features of AW Bellies Sandals Wedges Heel...</td>\n",
              "      <td>0.0</td>\n",
              "      <td>0.0</td>\n",
              "      <td>AW</td>\n",
              "      <td>{\"product_specification\"=&gt;[{\"key\"=&gt;\"Ideal For\"...</td>\n",
              "      <td>2016</td>\n",
              "      <td>3</td>\n",
              "      <td>50.05</td>\n",
              "      <td>Footwear</td>\n",
              "    </tr>\n",
              "    <tr>\n",
              "      <th>3</th>\n",
              "      <td>0973b37acd0c664e3de26e97e5571454</td>\n",
              "      <td>2016-03-25 22:59:23+00:00</td>\n",
              "      <td>alisha-solid-women-s-cycling-shorts</td>\n",
              "      <td>Alisha Solid Women's Cycling Shorts</td>\n",
              "      <td>['[\"Clothing ', \" Women's Clothing \", ' Linger...</td>\n",
              "      <td>SRTEH2F6HUZMQ6SJ</td>\n",
              "      <td>699.0</td>\n",
              "      <td>267.0</td>\n",
              "      <td>[\"http://img5a.flixcart.com/image/short/6/2/h/...</td>\n",
              "      <td>False</td>\n",
              "      <td>Key Features of Alisha Solid Women's Cycling S...</td>\n",
              "      <td>0.0</td>\n",
              "      <td>0.0</td>\n",
              "      <td>Alisha</td>\n",
              "      <td>{\"product_specification\"=&gt;[{\"key\"=&gt;\"Number of ...</td>\n",
              "      <td>2016</td>\n",
              "      <td>3</td>\n",
              "      <td>61.80</td>\n",
              "      <td>Clothing</td>\n",
              "    </tr>\n",
              "    <tr>\n",
              "      <th>4</th>\n",
              "      <td>bc940ea42ee6bef5ac7cea3fb5cfbee7</td>\n",
              "      <td>2016-03-25 22:59:23+00:00</td>\n",
              "      <td>sicons-all-purpose-arnica-dog-shampoo</td>\n",
              "      <td>Sicons All Purpose Arnica Dog Shampoo</td>\n",
              "      <td>['[\"Pet Supplies ', ' Grooming ', ' Skin &amp; Coa...</td>\n",
              "      <td>PSOEH3ZYDMSYARJ5</td>\n",
              "      <td>220.0</td>\n",
              "      <td>210.0</td>\n",
              "      <td>[\"http://img5a.flixcart.com/image/pet-shampoo/...</td>\n",
              "      <td>False</td>\n",
              "      <td>Specifications of Sicons All Purpose Arnica Do...</td>\n",
              "      <td>0.0</td>\n",
              "      <td>0.0</td>\n",
              "      <td>Sicons</td>\n",
              "      <td>{\"product_specification\"=&gt;[{\"key\"=&gt;\"Pet Type\",...</td>\n",
              "      <td>2016</td>\n",
              "      <td>3</td>\n",
              "      <td>4.55</td>\n",
              "      <td>Pet Supplies</td>\n",
              "    </tr>\n",
              "  </tbody>\n",
              "</table>\n",
              "</div>"
            ],
            "text/plain": [
              "                            uniq_id  ... Main_Category\n",
              "0  c2d766ca982eca8304150849735ffef9  ...      Clothing\n",
              "1  7f7036a6d550aaa89d34c77bd39a5e48  ...     Furniture\n",
              "2  f449ec65dcbc041b6ae5e6a32717d01b  ...      Footwear\n",
              "3  0973b37acd0c664e3de26e97e5571454  ...      Clothing\n",
              "4  bc940ea42ee6bef5ac7cea3fb5cfbee7  ...  Pet Supplies\n",
              "\n",
              "[5 rows x 19 columns]"
            ]
          },
          "metadata": {
            "tags": []
          },
          "execution_count": 3
        }
      ]
    },
    {
      "cell_type": "code",
      "metadata": {
        "colab": {
          "base_uri": "https://localhost:8080/",
          "height": 204
        },
        "id": "9S6iAPTcF_47",
        "outputId": "c4e3ed93-1483-4c1e-ee18-d02342db5107"
      },
      "source": [
        "df = data[[\"description\",\"Main_Category\"]]\n",
        "df.head()"
      ],
      "execution_count": null,
      "outputs": [
        {
          "output_type": "execute_result",
          "data": {
            "text/html": [
              "<div>\n",
              "<style scoped>\n",
              "    .dataframe tbody tr th:only-of-type {\n",
              "        vertical-align: middle;\n",
              "    }\n",
              "\n",
              "    .dataframe tbody tr th {\n",
              "        vertical-align: top;\n",
              "    }\n",
              "\n",
              "    .dataframe thead th {\n",
              "        text-align: right;\n",
              "    }\n",
              "</style>\n",
              "<table border=\"1\" class=\"dataframe\">\n",
              "  <thead>\n",
              "    <tr style=\"text-align: right;\">\n",
              "      <th></th>\n",
              "      <th>description</th>\n",
              "      <th>Main_Category</th>\n",
              "    </tr>\n",
              "  </thead>\n",
              "  <tbody>\n",
              "    <tr>\n",
              "      <th>0</th>\n",
              "      <td>Key Features of Alisha Solid Women's Cycling S...</td>\n",
              "      <td>Clothing</td>\n",
              "    </tr>\n",
              "    <tr>\n",
              "      <th>1</th>\n",
              "      <td>FabHomeDecor Fabric Double Sofa Bed (Finish Co...</td>\n",
              "      <td>Furniture</td>\n",
              "    </tr>\n",
              "    <tr>\n",
              "      <th>2</th>\n",
              "      <td>Key Features of AW Bellies Sandals Wedges Heel...</td>\n",
              "      <td>Footwear</td>\n",
              "    </tr>\n",
              "    <tr>\n",
              "      <th>3</th>\n",
              "      <td>Key Features of Alisha Solid Women's Cycling S...</td>\n",
              "      <td>Clothing</td>\n",
              "    </tr>\n",
              "    <tr>\n",
              "      <th>4</th>\n",
              "      <td>Specifications of Sicons All Purpose Arnica Do...</td>\n",
              "      <td>Pet Supplies</td>\n",
              "    </tr>\n",
              "  </tbody>\n",
              "</table>\n",
              "</div>"
            ],
            "text/plain": [
              "                                         description Main_Category\n",
              "0  Key Features of Alisha Solid Women's Cycling S...      Clothing\n",
              "1  FabHomeDecor Fabric Double Sofa Bed (Finish Co...     Furniture\n",
              "2  Key Features of AW Bellies Sandals Wedges Heel...      Footwear\n",
              "3  Key Features of Alisha Solid Women's Cycling S...      Clothing\n",
              "4  Specifications of Sicons All Purpose Arnica Do...  Pet Supplies"
            ]
          },
          "metadata": {
            "tags": []
          },
          "execution_count": 4
        }
      ]
    },
    {
      "cell_type": "code",
      "metadata": {
        "id": "3JMY7SeMF_47"
      },
      "source": [
        "class_dist = df[\"Main_Category\"].value_counts()\n",
        "classes = class_dist[class_dist>9]"
      ],
      "execution_count": null,
      "outputs": []
    },
    {
      "cell_type": "code",
      "metadata": {
        "colab": {
          "base_uri": "https://localhost:8080/"
        },
        "id": "woMDxgXFF_47",
        "outputId": "ab3b9378-2687-4af6-ce29-31b2edabfde2"
      },
      "source": [
        "classes"
      ],
      "execution_count": null,
      "outputs": [
        {
          "output_type": "execute_result",
          "data": {
            "text/plain": [
              "Clothing                             6198\n",
              "Jewellery                            3531\n",
              "Footwear                             1227\n",
              "Mobiles & Accessories                1099\n",
              "Automotive                           1012\n",
              "Home Decor & Festive Needs            929\n",
              "Beauty and Personal Care              710\n",
              "Home Furnishing                       700\n",
              "Kitchen & Dining                      647\n",
              "Computers                             578\n",
              "Watches                               530\n",
              "Baby Care                             483\n",
              "Tools & Hardware                      391\n",
              "Toys & School Supplies                330\n",
              "Pens & Stationery                     313\n",
              "Bags, Wallets & Belts                 265\n",
              "Furniture                             180\n",
              "Sports & Fitness                      166\n",
              "Cameras & Accessories                  82\n",
              "Home Improvement                       81\n",
              "Health & Personal Care Appliances      43\n",
              "Sunglasses                             35\n",
              "Gaming                                 35\n",
              "Pet Supplies                           30\n",
              "Home & Kitchen                         24\n",
              "Home Entertainment                     19\n",
              "eBooks                                 15\n",
              "Eyewear                                10\n",
              "Name: Main_Category, dtype: int64"
            ]
          },
          "metadata": {
            "tags": []
          },
          "execution_count": 6
        }
      ]
    },
    {
      "cell_type": "code",
      "metadata": {
        "id": "BOPxHoATF_48"
      },
      "source": [
        "df = df[df[\"Main_Category\"].isin(classes.index.values)]"
      ],
      "execution_count": null,
      "outputs": []
    },
    {
      "cell_type": "code",
      "metadata": {
        "colab": {
          "base_uri": "https://localhost:8080/"
        },
        "id": "JbMHWxmpF_48",
        "outputId": "dc13c427-83f2-4c01-e6da-dc0bc61aeffe"
      },
      "source": [
        "df.shape"
      ],
      "execution_count": null,
      "outputs": [
        {
          "output_type": "execute_result",
          "data": {
            "text/plain": [
              "(19663, 2)"
            ]
          },
          "metadata": {
            "tags": []
          },
          "execution_count": 8
        }
      ]
    },
    {
      "cell_type": "code",
      "metadata": {
        "id": "OkorCn81F_49"
      },
      "source": [
        "puntuations = string.punctuation\n",
        "stop_words = nltk.corpus.stopwords.words('english')\n",
        "custom_list = []\n",
        "filter_list = stop_words + custom_list"
      ],
      "execution_count": null,
      "outputs": []
    },
    {
      "cell_type": "code",
      "metadata": {
        "id": "VjFtjzSDF_49"
      },
      "source": [
        "def preprocess(text):\n",
        "    text = str(text)\n",
        "    text = text.lower()\n",
        "    c_text = \"\"\n",
        "    for char in list(text):\n",
        "        if char not in puntuations:\n",
        "            c_text+=char\n",
        "        elif char in [\",\",\"-\"]:\n",
        "            c_text+=\" \"\n",
        "    text = c_text\n",
        "    text = \"\".join(eword+\" \" for eword in c_text.split() if eword.isalpha() and eword not in filter_list)\n",
        "    return text.strip()"
      ],
      "execution_count": null,
      "outputs": []
    },
    {
      "cell_type": "code",
      "metadata": {
        "colab": {
          "base_uri": "https://localhost:8080/",
          "height": 69
        },
        "id": "xWsGZnO2F_49",
        "outputId": "f41d34d0-5bdf-48ed-a855-5419baadf570"
      },
      "source": [
        "preprocess(df.description[0])"
      ],
      "execution_count": null,
      "outputs": [
        {
          "output_type": "execute_result",
          "data": {
            "application/vnd.google.colaboratory.intrinsic+json": {
              "type": "string"
            },
            "text/plain": [
              "'key features alisha solid womens cycling shorts cotton lycra navy red navy specifications alisha solid womens cycling shorts shorts details number contents sales package pack fabric cotton lycra type cycling shorts general details pattern solid ideal womens fabric care gentle machine wash lukewarm water bleach additional details style code box shorts'"
            ]
          },
          "metadata": {
            "tags": []
          },
          "execution_count": 13
        }
      ]
    },
    {
      "cell_type": "code",
      "metadata": {
        "id": "3TdLhezdF_4-"
      },
      "source": [
        "feature_text = df.description.apply(preprocess)"
      ],
      "execution_count": null,
      "outputs": []
    },
    {
      "cell_type": "markdown",
      "metadata": {
        "id": "RhqutW5PF_4-"
      },
      "source": [
        "## Label encoding"
      ]
    },
    {
      "cell_type": "code",
      "metadata": {
        "id": "YvsUdegAF_4-"
      },
      "source": [
        "from sklearn.preprocessing import LabelEncoder"
      ],
      "execution_count": null,
      "outputs": []
    },
    {
      "cell_type": "code",
      "metadata": {
        "id": "5BjgXRtoF_4-"
      },
      "source": [
        "le = LabelEncoder()\n",
        "label = le.fit_transform(df[\"Main_Category\"])"
      ],
      "execution_count": null,
      "outputs": []
    },
    {
      "cell_type": "code",
      "metadata": {
        "colab": {
          "base_uri": "https://localhost:8080/"
        },
        "id": "tsMYzqOmF_4_",
        "outputId": "56e3c12b-5dbd-4835-9b02-02838a3ab629"
      },
      "source": [
        "max(label)"
      ],
      "execution_count": null,
      "outputs": [
        {
          "output_type": "execute_result",
          "data": {
            "text/plain": [
              "27"
            ]
          },
          "metadata": {
            "tags": []
          },
          "execution_count": 17
        }
      ]
    },
    {
      "cell_type": "markdown",
      "metadata": {
        "id": "drh9qzTUF_4_"
      },
      "source": [
        "## Feature extraction"
      ]
    },
    {
      "cell_type": "code",
      "metadata": {
        "id": "zCdfIDe8F_4_"
      },
      "source": [
        "from sklearn.feature_extraction.text import TfidfVectorizer\n",
        "from sklearn.feature_extraction.text import CountVectorizer"
      ],
      "execution_count": null,
      "outputs": []
    },
    {
      "cell_type": "code",
      "metadata": {
        "id": "l0EkUIYwF_4_"
      },
      "source": [
        "tfidf = TfidfVectorizer()\n",
        "cv = CountVectorizer()"
      ],
      "execution_count": null,
      "outputs": []
    },
    {
      "cell_type": "code",
      "metadata": {
        "id": "aaO4TiJbF_5A"
      },
      "source": [
        "feature_cv = cv.fit_transform(feature_text)\n",
        "feature_tfidf = tfidf.fit_transform(feature_text)"
      ],
      "execution_count": null,
      "outputs": []
    },
    {
      "cell_type": "markdown",
      "metadata": {
        "id": "7jl878tfF_5A"
      },
      "source": [
        "## Model Training"
      ]
    },
    {
      "cell_type": "markdown",
      "metadata": {
        "id": "jGH-7jP9F_5A"
      },
      "source": [
        "### Statisitcal algorithms"
      ]
    },
    {
      "cell_type": "code",
      "metadata": {
        "id": "zb4SUMVuF_5A"
      },
      "source": [
        "from sklearn.model_selection import train_test_split\n",
        "from sklearn.ensemble import RandomForestClassifier\n",
        "from sklearn.naive_bayes import MultinomialNB\n",
        "from sklearn.svm import SVC\n",
        "from sklearn.metrics import classification_report\n",
        "from sklearn.linear_model import LogisticRegression\n",
        "from xgboost import XGBClassifier\n",
        "from sklearn.neural_network import MLPClassifier"
      ],
      "execution_count": null,
      "outputs": []
    },
    {
      "cell_type": "code",
      "metadata": {
        "id": "QStPcpp7F_5A"
      },
      "source": [
        "X_train_cv, X_test_cv, y_train_cv, y_test_cv = train_test_split(feature_cv, label, test_size=0.2, random_state=42)\n",
        "X_train_tfidf, X_test_tfidf, y_train_tfidf, y_test_tfidf = train_test_split(feature_tfidf, label, test_size=0.2, random_state=42)"
      ],
      "execution_count": null,
      "outputs": []
    },
    {
      "cell_type": "code",
      "metadata": {
        "id": "EV-tHs7uF_5B"
      },
      "source": [
        "clf1 = MultinomialNB()\n",
        "clf2 = SVC()\n",
        "clf3 = RandomForestClassifier(random_state=42)\n",
        "clf4 = LogisticRegression(random_state=42)\n",
        "clf5 = XGBClassifier()\n",
        "clf6 = MLPClassifier()"
      ],
      "execution_count": null,
      "outputs": []
    },
    {
      "cell_type": "markdown",
      "metadata": {
        "id": "2BnbLmrxF_5B"
      },
      "source": [
        "#### For CV"
      ]
    },
    {
      "cell_type": "code",
      "metadata": {
        "colab": {
          "base_uri": "https://localhost:8080/"
        },
        "id": "QfGFh7MoF_5B",
        "outputId": "9725e264-028c-4568-ae56-d0851ac9cbd0"
      },
      "source": [
        "clf1.fit(X_train_cv,y_train_cv)\n",
        "y_test_pred_cv = clf1.predict(X_test_cv)\n",
        "print(classification_report(y_test_cv,y_test_pred_cv))"
      ],
      "execution_count": null,
      "outputs": [
        {
          "output_type": "stream",
          "text": [
            "              precision    recall  f1-score   support\n",
            "\n",
            "           0       0.91      0.98      0.94       181\n",
            "           1       0.85      0.55      0.67       110\n",
            "           2       0.79      0.58      0.67        38\n",
            "           3       0.82      0.96      0.88       147\n",
            "           4       1.00      0.25      0.40        20\n",
            "           5       0.97      0.98      0.98      1207\n",
            "           6       0.86      0.79      0.83       131\n",
            "           8       0.97      0.98      0.98       259\n",
            "           9       0.92      0.95      0.94        38\n",
            "          10       0.83      0.83      0.83         6\n",
            "          11       1.00      0.55      0.71        11\n",
            "          12       1.00      0.40      0.57         5\n",
            "          13       0.91      0.97      0.94       187\n",
            "          14       0.00      0.00      0.00         3\n",
            "          15       0.90      1.00      0.95       143\n",
            "          16       1.00      0.21      0.35        19\n",
            "          17       0.90      1.00      0.95       690\n",
            "          18       0.97      0.89      0.93       131\n",
            "          19       0.96      0.88      0.92       223\n",
            "          20       0.93      0.62      0.74        65\n",
            "          21       1.00      0.57      0.73         7\n",
            "          22       0.78      0.62      0.69        34\n",
            "          23       1.00      1.00      1.00         4\n",
            "          24       0.92      0.94      0.93        94\n",
            "          25       0.83      0.90      0.86        69\n",
            "          26       0.98      0.98      0.98       106\n",
            "          27       1.00      0.20      0.33         5\n",
            "\n",
            "    accuracy                           0.93      3933\n",
            "   macro avg       0.89      0.73      0.77      3933\n",
            "weighted avg       0.93      0.93      0.92      3933\n",
            "\n"
          ],
          "name": "stdout"
        },
        {
          "output_type": "stream",
          "text": [
            "/usr/local/lib/python3.7/dist-packages/sklearn/metrics/_classification.py:1272: UndefinedMetricWarning: Precision and F-score are ill-defined and being set to 0.0 in labels with no predicted samples. Use `zero_division` parameter to control this behavior.\n",
            "  _warn_prf(average, modifier, msg_start, len(result))\n"
          ],
          "name": "stderr"
        }
      ]
    },
    {
      "cell_type": "code",
      "metadata": {
        "colab": {
          "base_uri": "https://localhost:8080/"
        },
        "id": "w7ZpFRw8F_5C",
        "outputId": "154b8790-1ad1-4fe1-d969-290d53c43db4"
      },
      "source": [
        "clf2.fit(X_train_cv,y_train_cv)\n",
        "y_test_pred_cv = clf2.predict(X_test_cv)\n",
        "print(classification_report(y_test_cv,y_test_pred_cv))"
      ],
      "execution_count": null,
      "outputs": [
        {
          "output_type": "stream",
          "text": [
            "              precision    recall  f1-score   support\n",
            "\n",
            "           0       0.99      0.94      0.97       181\n",
            "           1       0.95      0.75      0.84       110\n",
            "           2       0.91      0.82      0.86        38\n",
            "           3       0.98      0.93      0.95       147\n",
            "           4       1.00      0.75      0.86        20\n",
            "           5       0.91      1.00      0.95      1207\n",
            "           6       0.90      0.92      0.91       131\n",
            "           8       0.99      0.96      0.98       259\n",
            "           9       1.00      0.92      0.96        38\n",
            "          10       1.00      0.50      0.67         6\n",
            "          11       1.00      0.36      0.53        11\n",
            "          12       1.00      0.20      0.33         5\n",
            "          13       0.87      0.95      0.91       187\n",
            "          14       0.00      0.00      0.00         3\n",
            "          15       0.90      0.92      0.91       143\n",
            "          16       1.00      0.32      0.48        19\n",
            "          17       0.99      0.99      0.99       690\n",
            "          18       0.88      0.87      0.87       131\n",
            "          19       0.95      0.93      0.94       223\n",
            "          20       1.00      0.55      0.71        65\n",
            "          21       1.00      0.57      0.73         7\n",
            "          22       0.90      0.79      0.84        34\n",
            "          23       1.00      1.00      1.00         4\n",
            "          24       1.00      0.88      0.94        94\n",
            "          25       0.76      0.83      0.79        69\n",
            "          26       1.00      0.99      1.00       106\n",
            "          27       0.00      0.00      0.00         5\n",
            "\n",
            "    accuracy                           0.94      3933\n",
            "   macro avg       0.88      0.73      0.77      3933\n",
            "weighted avg       0.94      0.94      0.93      3933\n",
            "\n"
          ],
          "name": "stdout"
        },
        {
          "output_type": "stream",
          "text": [
            "/usr/local/lib/python3.7/dist-packages/sklearn/metrics/_classification.py:1272: UndefinedMetricWarning: Precision and F-score are ill-defined and being set to 0.0 in labels with no predicted samples. Use `zero_division` parameter to control this behavior.\n",
            "  _warn_prf(average, modifier, msg_start, len(result))\n"
          ],
          "name": "stderr"
        }
      ]
    },
    {
      "cell_type": "code",
      "metadata": {
        "colab": {
          "base_uri": "https://localhost:8080/"
        },
        "id": "M5fzaF2vF_5C",
        "outputId": "844db62d-736b-4951-e2d4-8ed199959269"
      },
      "source": [
        "clf3.fit(X_train_cv,y_train_cv)\n",
        "y_test_pred_cv = clf3.predict(X_test_cv)\n",
        "print(classification_report(y_test_cv,y_test_pred_cv))"
      ],
      "execution_count": null,
      "outputs": [
        {
          "output_type": "stream",
          "text": [
            "              precision    recall  f1-score   support\n",
            "\n",
            "           0       0.98      0.99      0.98       181\n",
            "           1       0.99      0.69      0.81       110\n",
            "           2       0.97      0.87      0.92        38\n",
            "           3       0.99      0.97      0.98       147\n",
            "           4       1.00      0.90      0.95        20\n",
            "           5       0.97      1.00      0.98      1207\n",
            "           6       0.97      0.95      0.96       131\n",
            "           8       0.99      0.98      0.98       259\n",
            "           9       0.95      0.97      0.96        38\n",
            "          10       1.00      0.83      0.91         6\n",
            "          11       1.00      0.91      0.95        11\n",
            "          12       1.00      0.40      0.57         5\n",
            "          13       0.91      0.98      0.94       187\n",
            "          14       1.00      0.33      0.50         3\n",
            "          15       0.95      0.97      0.96       143\n",
            "          16       1.00      0.53      0.69        19\n",
            "          17       0.99      1.00      0.99       690\n",
            "          18       0.93      0.95      0.94       131\n",
            "          19       0.94      0.99      0.96       223\n",
            "          20       0.88      0.82      0.85        65\n",
            "          21       1.00      0.86      0.92         7\n",
            "          22       0.94      0.88      0.91        34\n",
            "          23       1.00      1.00      1.00         4\n",
            "          24       0.99      0.96      0.97        94\n",
            "          25       0.89      0.86      0.87        69\n",
            "          26       1.00      1.00      1.00       106\n",
            "          27       0.00      0.00      0.00         5\n",
            "\n",
            "    accuracy                           0.97      3933\n",
            "   macro avg       0.93      0.84      0.87      3933\n",
            "weighted avg       0.97      0.97      0.96      3933\n",
            "\n"
          ],
          "name": "stdout"
        },
        {
          "output_type": "stream",
          "text": [
            "/usr/local/lib/python3.7/dist-packages/sklearn/metrics/_classification.py:1272: UndefinedMetricWarning: Precision and F-score are ill-defined and being set to 0.0 in labels with no predicted samples. Use `zero_division` parameter to control this behavior.\n",
            "  _warn_prf(average, modifier, msg_start, len(result))\n"
          ],
          "name": "stderr"
        }
      ]
    },
    {
      "cell_type": "code",
      "metadata": {
        "colab": {
          "base_uri": "https://localhost:8080/"
        },
        "id": "K_HNyd0eF_5C",
        "outputId": "bede281c-da4f-468a-9a63-d3a21d9421c0"
      },
      "source": [
        "clf4.fit(X_train_cv,y_train_cv)\n",
        "y_test_pred_cv = clf4.predict(X_test_cv)\n",
        "print(classification_report(y_test_cv,y_test_pred_cv))"
      ],
      "execution_count": null,
      "outputs": [
        {
          "output_type": "stream",
          "text": [
            "              precision    recall  f1-score   support\n",
            "\n",
            "           0       0.96      0.98      0.97       181\n",
            "           1       0.91      0.83      0.87       110\n",
            "           2       0.90      0.95      0.92        38\n",
            "           3       0.95      0.99      0.97       147\n",
            "           4       0.95      0.95      0.95        20\n",
            "           5       0.99      1.00      0.99      1207\n",
            "           6       0.95      0.95      0.95       131\n",
            "           8       1.00      0.99      1.00       259\n",
            "           9       1.00      0.95      0.97        38\n",
            "          10       1.00      0.83      0.91         6\n",
            "          11       1.00      0.91      0.95        11\n",
            "          12       0.67      0.40      0.50         5\n",
            "          13       0.97      0.97      0.97       187\n",
            "          14       0.00      0.00      0.00         3\n",
            "          15       0.94      0.98      0.96       143\n",
            "          16       0.93      0.74      0.82        19\n",
            "          17       1.00      0.99      0.99       690\n",
            "          18       0.93      0.97      0.95       131\n",
            "          19       0.96      0.97      0.96       223\n",
            "          20       0.86      0.85      0.85        65\n",
            "          21       1.00      0.71      0.83         7\n",
            "          22       0.86      0.88      0.87        34\n",
            "          23       1.00      1.00      1.00         4\n",
            "          24       0.97      1.00      0.98        94\n",
            "          25       0.88      0.83      0.85        69\n",
            "          26       1.00      1.00      1.00       106\n",
            "          27       0.00      0.00      0.00         5\n",
            "\n",
            "    accuracy                           0.97      3933\n",
            "   macro avg       0.87      0.84      0.85      3933\n",
            "weighted avg       0.97      0.97      0.97      3933\n",
            "\n"
          ],
          "name": "stdout"
        },
        {
          "output_type": "stream",
          "text": [
            "/usr/local/lib/python3.7/dist-packages/sklearn/linear_model/_logistic.py:940: ConvergenceWarning: lbfgs failed to converge (status=1):\n",
            "STOP: TOTAL NO. of ITERATIONS REACHED LIMIT.\n",
            "\n",
            "Increase the number of iterations (max_iter) or scale the data as shown in:\n",
            "    https://scikit-learn.org/stable/modules/preprocessing.html\n",
            "Please also refer to the documentation for alternative solver options:\n",
            "    https://scikit-learn.org/stable/modules/linear_model.html#logistic-regression\n",
            "  extra_warning_msg=_LOGISTIC_SOLVER_CONVERGENCE_MSG)\n",
            "/usr/local/lib/python3.7/dist-packages/sklearn/metrics/_classification.py:1272: UndefinedMetricWarning: Precision and F-score are ill-defined and being set to 0.0 in labels with no predicted samples. Use `zero_division` parameter to control this behavior.\n",
            "  _warn_prf(average, modifier, msg_start, len(result))\n"
          ],
          "name": "stderr"
        }
      ]
    },
    {
      "cell_type": "code",
      "metadata": {
        "colab": {
          "base_uri": "https://localhost:8080/"
        },
        "id": "irjW919UF_5C",
        "outputId": "a3ea4bfb-8fec-4263-dde6-231a42bdefb6"
      },
      "source": [
        "clf5.fit(X_train_cv,y_train_cv)\n",
        "y_test_pred_cv = clf5.predict(X_test_cv)\n",
        "print(classification_report(y_test_cv,y_test_pred_cv))"
      ],
      "execution_count": null,
      "outputs": [
        {
          "output_type": "stream",
          "text": [
            "              precision    recall  f1-score   support\n",
            "\n",
            "           0       0.98      0.99      0.99       181\n",
            "           1       0.91      0.82      0.86       110\n",
            "           2       0.92      0.92      0.92        38\n",
            "           3       0.96      0.93      0.94       147\n",
            "           4       1.00      0.95      0.97        20\n",
            "           5       0.99      0.99      0.99      1207\n",
            "           6       0.98      0.87      0.92       131\n",
            "           7       0.00      0.00      0.00         0\n",
            "           8       0.98      0.98      0.98       259\n",
            "           9       0.95      0.97      0.96        38\n",
            "          10       0.83      0.83      0.83         6\n",
            "          11       1.00      0.82      0.90        11\n",
            "          12       1.00      0.20      0.33         5\n",
            "          13       0.93      0.94      0.93       187\n",
            "          14       0.50      0.33      0.40         3\n",
            "          15       0.90      0.99      0.94       143\n",
            "          16       1.00      0.63      0.77        19\n",
            "          17       0.97      1.00      0.98       690\n",
            "          18       0.88      0.91      0.89       131\n",
            "          19       0.96      0.97      0.96       223\n",
            "          20       0.86      0.78      0.82        65\n",
            "          21       1.00      0.71      0.83         7\n",
            "          22       0.94      1.00      0.97        34\n",
            "          23       1.00      1.00      1.00         4\n",
            "          24       1.00      0.96      0.98        94\n",
            "          25       0.84      0.90      0.87        69\n",
            "          26       0.99      1.00      1.00       106\n",
            "          27       0.00      0.00      0.00         5\n",
            "\n",
            "    accuracy                           0.96      3933\n",
            "   macro avg       0.87      0.80      0.82      3933\n",
            "weighted avg       0.96      0.96      0.96      3933\n",
            "\n"
          ],
          "name": "stdout"
        },
        {
          "output_type": "stream",
          "text": [
            "/usr/local/lib/python3.7/dist-packages/sklearn/metrics/_classification.py:1272: UndefinedMetricWarning: Precision and F-score are ill-defined and being set to 0.0 in labels with no predicted samples. Use `zero_division` parameter to control this behavior.\n",
            "  _warn_prf(average, modifier, msg_start, len(result))\n",
            "/usr/local/lib/python3.7/dist-packages/sklearn/metrics/_classification.py:1272: UndefinedMetricWarning: Recall and F-score are ill-defined and being set to 0.0 in labels with no true samples. Use `zero_division` parameter to control this behavior.\n",
            "  _warn_prf(average, modifier, msg_start, len(result))\n"
          ],
          "name": "stderr"
        }
      ]
    },
    {
      "cell_type": "code",
      "metadata": {
        "colab": {
          "base_uri": "https://localhost:8080/"
        },
        "id": "wYvOdLPTF_5D",
        "outputId": "5b4c91f0-038e-4e76-9ba3-50b21fbf4f4c"
      },
      "source": [
        "clf6.fit(X_train_cv,y_train_cv)\n",
        "y_test_pred_cv = clf6.predict(X_test_cv)\n",
        "print(classification_report(y_test_cv,y_test_pred_cv))"
      ],
      "execution_count": null,
      "outputs": [
        {
          "output_type": "stream",
          "text": [
            "              precision    recall  f1-score   support\n",
            "\n",
            "           0       0.98      0.98      0.98       181\n",
            "           1       0.92      0.84      0.88       110\n",
            "           2       0.90      0.97      0.94        38\n",
            "           3       0.97      0.97      0.97       147\n",
            "           4       1.00      0.95      0.97        20\n",
            "           5       0.99      1.00      0.99      1207\n",
            "           6       0.98      0.94      0.96       131\n",
            "           8       0.99      0.99      0.99       259\n",
            "           9       1.00      0.95      0.97        38\n",
            "          10       1.00      0.67      0.80         6\n",
            "          11       0.92      1.00      0.96        11\n",
            "          12       0.67      0.40      0.50         5\n",
            "          13       0.94      0.98      0.96       187\n",
            "          14       0.67      0.67      0.67         3\n",
            "          15       0.95      1.00      0.97       143\n",
            "          16       0.93      0.74      0.82        19\n",
            "          17       1.00      1.00      1.00       690\n",
            "          18       0.98      0.96      0.97       131\n",
            "          19       0.95      1.00      0.97       223\n",
            "          20       0.82      0.91      0.86        65\n",
            "          21       1.00      1.00      1.00         7\n",
            "          22       0.94      0.94      0.94        34\n",
            "          23       1.00      1.00      1.00         4\n",
            "          24       0.99      0.98      0.98        94\n",
            "          25       0.90      0.81      0.85        69\n",
            "          26       1.00      0.99      1.00       106\n",
            "          27       0.00      0.00      0.00         5\n",
            "\n",
            "    accuracy                           0.98      3933\n",
            "   macro avg       0.90      0.87      0.89      3933\n",
            "weighted avg       0.97      0.98      0.97      3933\n",
            "\n"
          ],
          "name": "stdout"
        },
        {
          "output_type": "stream",
          "text": [
            "/usr/local/lib/python3.7/dist-packages/sklearn/metrics/_classification.py:1272: UndefinedMetricWarning: Precision and F-score are ill-defined and being set to 0.0 in labels with no predicted samples. Use `zero_division` parameter to control this behavior.\n",
            "  _warn_prf(average, modifier, msg_start, len(result))\n"
          ],
          "name": "stderr"
        }
      ]
    },
    {
      "cell_type": "markdown",
      "metadata": {
        "id": "R0gbwsmnF_5D"
      },
      "source": [
        "#### For TfIdf"
      ]
    },
    {
      "cell_type": "code",
      "metadata": {
        "colab": {
          "base_uri": "https://localhost:8080/"
        },
        "id": "AD45d6ZfF_5D",
        "outputId": "19be9726-c296-4462-b51a-3658601e66fc"
      },
      "source": [
        "clf1.fit(X_train_tfidf,y_train_tfidf)\n",
        "y_test_pred_tfidf = clf1.predict(X_test_tfidf)\n",
        "print(classification_report(y_test_tfidf,y_test_pred_tfidf))"
      ],
      "execution_count": null,
      "outputs": [
        {
          "output_type": "stream",
          "text": [
            "              precision    recall  f1-score   support\n",
            "\n",
            "           0       0.87      0.97      0.92       181\n",
            "           1       1.00      0.41      0.58       110\n",
            "           2       1.00      0.13      0.23        38\n",
            "           3       0.98      0.62      0.76       147\n",
            "           4       1.00      0.05      0.10        20\n",
            "           5       0.86      1.00      0.92      1207\n",
            "           6       1.00      0.73      0.85       131\n",
            "           8       1.00      0.93      0.96       259\n",
            "           9       1.00      0.66      0.79        38\n",
            "          10       0.00      0.00      0.00         6\n",
            "          11       0.00      0.00      0.00        11\n",
            "          12       0.00      0.00      0.00         5\n",
            "          13       0.91      0.91      0.91       187\n",
            "          14       0.00      0.00      0.00         3\n",
            "          15       0.94      0.80      0.86       143\n",
            "          16       0.00      0.00      0.00        19\n",
            "          17       0.71      1.00      0.83       690\n",
            "          18       0.98      0.79      0.87       131\n",
            "          19       0.86      0.94      0.90       223\n",
            "          20       1.00      0.18      0.31        65\n",
            "          21       0.00      0.00      0.00         7\n",
            "          22       0.00      0.00      0.00        34\n",
            "          23       0.00      0.00      0.00         4\n",
            "          24       1.00      0.81      0.89        94\n",
            "          25       0.89      0.12      0.21        69\n",
            "          26       1.00      0.98      0.99       106\n",
            "          27       0.00      0.00      0.00         5\n",
            "\n",
            "    accuracy                           0.86      3933\n",
            "   macro avg       0.63      0.45      0.48      3933\n",
            "weighted avg       0.86      0.86      0.83      3933\n",
            "\n"
          ],
          "name": "stdout"
        },
        {
          "output_type": "stream",
          "text": [
            "/usr/local/lib/python3.7/dist-packages/sklearn/metrics/_classification.py:1272: UndefinedMetricWarning: Precision and F-score are ill-defined and being set to 0.0 in labels with no predicted samples. Use `zero_division` parameter to control this behavior.\n",
            "  _warn_prf(average, modifier, msg_start, len(result))\n"
          ],
          "name": "stderr"
        }
      ]
    },
    {
      "cell_type": "code",
      "metadata": {
        "colab": {
          "base_uri": "https://localhost:8080/"
        },
        "id": "zI5gXuWAF_5D",
        "outputId": "41d49026-cb8d-46e5-d1e9-5c0dfa9e9577"
      },
      "source": [
        "clf2.fit(X_train_tfidf,y_train_tfidf)\n",
        "y_test_pred_tfidf = clf2.predict(X_test_tfidf)\n",
        "print(classification_report(y_test_tfidf,y_test_pred_tfidf))"
      ],
      "execution_count": null,
      "outputs": [
        {
          "output_type": "stream",
          "text": [
            "              precision    recall  f1-score   support\n",
            "\n",
            "           0       0.98      0.98      0.98       181\n",
            "           1       0.95      0.81      0.87       110\n",
            "           2       0.89      0.89      0.89        38\n",
            "           3       0.99      0.96      0.98       147\n",
            "           4       1.00      0.90      0.95        20\n",
            "           5       0.95      1.00      0.97      1207\n",
            "           6       0.98      0.92      0.95       131\n",
            "           8       0.99      0.99      0.99       259\n",
            "           9       0.95      0.95      0.95        38\n",
            "          10       1.00      0.67      0.80         6\n",
            "          11       1.00      0.91      0.95        11\n",
            "          12       1.00      0.20      0.33         5\n",
            "          13       0.93      0.98      0.96       187\n",
            "          14       0.00      0.00      0.00         3\n",
            "          15       0.95      0.99      0.97       143\n",
            "          16       1.00      0.32      0.48        19\n",
            "          17       0.99      1.00      0.99       690\n",
            "          18       0.94      0.95      0.94       131\n",
            "          19       0.94      0.99      0.96       223\n",
            "          20       0.94      0.74      0.83        65\n",
            "          21       1.00      0.57      0.73         7\n",
            "          22       1.00      0.91      0.95        34\n",
            "          23       1.00      1.00      1.00         4\n",
            "          24       1.00      0.93      0.96        94\n",
            "          25       0.88      0.86      0.87        69\n",
            "          26       1.00      0.99      1.00       106\n",
            "          27       0.00      0.00      0.00         5\n",
            "\n",
            "    accuracy                           0.96      3933\n",
            "   macro avg       0.90      0.79      0.82      3933\n",
            "weighted avg       0.96      0.96      0.96      3933\n",
            "\n"
          ],
          "name": "stdout"
        },
        {
          "output_type": "stream",
          "text": [
            "/usr/local/lib/python3.7/dist-packages/sklearn/metrics/_classification.py:1272: UndefinedMetricWarning: Precision and F-score are ill-defined and being set to 0.0 in labels with no predicted samples. Use `zero_division` parameter to control this behavior.\n",
            "  _warn_prf(average, modifier, msg_start, len(result))\n"
          ],
          "name": "stderr"
        }
      ]
    },
    {
      "cell_type": "code",
      "metadata": {
        "colab": {
          "base_uri": "https://localhost:8080/"
        },
        "id": "mW_OmVACF_5E",
        "outputId": "34663009-39bf-4810-dd44-b55e635b0db4"
      },
      "source": [
        "clf3.fit(X_train_tfidf,y_train_tfidf)\n",
        "y_test_pred_tfidf = clf3.predict(X_test_tfidf)\n",
        "print(classification_report(y_test_tfidf,y_test_pred_tfidf))"
      ],
      "execution_count": null,
      "outputs": [
        {
          "output_type": "stream",
          "text": [
            "              precision    recall  f1-score   support\n",
            "\n",
            "           0       0.97      1.00      0.98       181\n",
            "           1       0.99      0.66      0.79       110\n",
            "           2       1.00      0.87      0.93        38\n",
            "           3       0.97      0.97      0.97       147\n",
            "           4       1.00      0.90      0.95        20\n",
            "           5       0.96      1.00      0.98      1207\n",
            "           6       0.98      0.92      0.95       131\n",
            "           8       0.99      0.98      0.98       259\n",
            "           9       0.95      0.97      0.96        38\n",
            "          10       1.00      0.83      0.91         6\n",
            "          11       1.00      0.91      0.95        11\n",
            "          12       1.00      0.40      0.57         5\n",
            "          13       0.90      0.96      0.93       187\n",
            "          14       1.00      0.33      0.50         3\n",
            "          15       0.93      0.97      0.95       143\n",
            "          16       1.00      0.37      0.54        19\n",
            "          17       0.98      1.00      0.99       690\n",
            "          18       0.91      0.95      0.93       131\n",
            "          19       0.96      0.98      0.97       223\n",
            "          20       0.93      0.82      0.87        65\n",
            "          21       1.00      0.57      0.73         7\n",
            "          22       0.97      0.91      0.94        34\n",
            "          23       1.00      1.00      1.00         4\n",
            "          24       0.98      0.93      0.95        94\n",
            "          25       0.91      0.90      0.91        69\n",
            "          26       1.00      1.00      1.00       106\n",
            "          27       0.00      0.00      0.00         5\n",
            "\n",
            "    accuracy                           0.96      3933\n",
            "   macro avg       0.94      0.82      0.86      3933\n",
            "weighted avg       0.96      0.96      0.96      3933\n",
            "\n"
          ],
          "name": "stdout"
        },
        {
          "output_type": "stream",
          "text": [
            "/usr/local/lib/python3.7/dist-packages/sklearn/metrics/_classification.py:1272: UndefinedMetricWarning: Precision and F-score are ill-defined and being set to 0.0 in labels with no predicted samples. Use `zero_division` parameter to control this behavior.\n",
            "  _warn_prf(average, modifier, msg_start, len(result))\n"
          ],
          "name": "stderr"
        }
      ]
    },
    {
      "cell_type": "code",
      "metadata": {
        "colab": {
          "base_uri": "https://localhost:8080/"
        },
        "id": "axNnl6IeF_5E",
        "outputId": "242a503d-f627-4677-f03c-ca79a3fa5180"
      },
      "source": [
        "clf4.fit(X_train_tfidf,y_train_tfidf)\n",
        "y_test_pred_tfidf = clf4.predict(X_test_tfidf)\n",
        "print(classification_report(y_test_tfidf,y_test_pred_tfidf))"
      ],
      "execution_count": null,
      "outputs": [
        {
          "output_type": "stream",
          "text": [
            "              precision    recall  f1-score   support\n",
            "\n",
            "           0       0.95      0.98      0.96       181\n",
            "           1       0.92      0.71      0.80       110\n",
            "           2       0.89      0.84      0.86        38\n",
            "           3       0.95      0.95      0.95       147\n",
            "           4       1.00      0.80      0.89        20\n",
            "           5       0.95      1.00      0.97      1207\n",
            "           6       0.94      0.92      0.93       131\n",
            "           8       0.99      0.98      0.99       259\n",
            "           9       0.95      0.95      0.95        38\n",
            "          10       1.00      0.67      0.80         6\n",
            "          11       1.00      0.73      0.84        11\n",
            "          12       0.00      0.00      0.00         5\n",
            "          13       0.92      0.96      0.94       187\n",
            "          14       0.00      0.00      0.00         3\n",
            "          15       0.93      0.98      0.96       143\n",
            "          16       1.00      0.26      0.42        19\n",
            "          17       0.98      1.00      0.99       690\n",
            "          18       0.92      0.93      0.92       131\n",
            "          19       0.93      0.97      0.95       223\n",
            "          20       0.96      0.66      0.78        65\n",
            "          21       1.00      0.43      0.60         7\n",
            "          22       0.93      0.82      0.87        34\n",
            "          23       1.00      1.00      1.00         4\n",
            "          24       1.00      0.95      0.97        94\n",
            "          25       0.84      0.84      0.84        69\n",
            "          26       1.00      0.98      0.99       106\n",
            "          27       0.00      0.00      0.00         5\n",
            "\n",
            "    accuracy                           0.95      3933\n",
            "   macro avg       0.85      0.75      0.78      3933\n",
            "weighted avg       0.95      0.95      0.95      3933\n",
            "\n"
          ],
          "name": "stdout"
        },
        {
          "output_type": "stream",
          "text": [
            "/usr/local/lib/python3.7/dist-packages/sklearn/linear_model/_logistic.py:940: ConvergenceWarning: lbfgs failed to converge (status=1):\n",
            "STOP: TOTAL NO. of ITERATIONS REACHED LIMIT.\n",
            "\n",
            "Increase the number of iterations (max_iter) or scale the data as shown in:\n",
            "    https://scikit-learn.org/stable/modules/preprocessing.html\n",
            "Please also refer to the documentation for alternative solver options:\n",
            "    https://scikit-learn.org/stable/modules/linear_model.html#logistic-regression\n",
            "  extra_warning_msg=_LOGISTIC_SOLVER_CONVERGENCE_MSG)\n",
            "/usr/local/lib/python3.7/dist-packages/sklearn/metrics/_classification.py:1272: UndefinedMetricWarning: Precision and F-score are ill-defined and being set to 0.0 in labels with no predicted samples. Use `zero_division` parameter to control this behavior.\n",
            "  _warn_prf(average, modifier, msg_start, len(result))\n"
          ],
          "name": "stderr"
        }
      ]
    },
    {
      "cell_type": "code",
      "metadata": {
        "colab": {
          "base_uri": "https://localhost:8080/"
        },
        "id": "heBfUKIbF_5E",
        "outputId": "133f4194-117e-4cc9-e770-b84fb7a49e05"
      },
      "source": [
        "clf5.fit(X_train_tfidf,y_train_tfidf)\n",
        "y_test_pred_tfidf = clf5.predict(X_test_tfidf)\n",
        "print(classification_report(y_test_tfidf,y_test_pred_tfidf))"
      ],
      "execution_count": null,
      "outputs": [
        {
          "output_type": "stream",
          "text": [
            "              precision    recall  f1-score   support\n",
            "\n",
            "           0       0.97      0.99      0.98       181\n",
            "           1       0.88      0.82      0.85       110\n",
            "           2       0.90      0.95      0.92        38\n",
            "           3       0.96      0.95      0.96       147\n",
            "           4       1.00      0.90      0.95        20\n",
            "           5       0.98      0.99      0.99      1207\n",
            "           6       0.95      0.93      0.94       131\n",
            "           8       0.99      0.97      0.98       259\n",
            "           9       0.95      0.97      0.96        38\n",
            "          10       1.00      0.83      0.91         6\n",
            "          11       1.00      0.82      0.90        11\n",
            "          12       1.00      0.20      0.33         5\n",
            "          13       0.89      0.95      0.92       187\n",
            "          14       1.00      0.33      0.50         3\n",
            "          15       0.92      0.94      0.93       143\n",
            "          16       1.00      0.58      0.73        19\n",
            "          17       0.97      1.00      0.99       690\n",
            "          18       0.92      0.95      0.94       131\n",
            "          19       0.96      0.96      0.96       223\n",
            "          20       0.80      0.72      0.76        65\n",
            "          21       1.00      0.71      0.83         7\n",
            "          22       0.94      1.00      0.97        34\n",
            "          23       1.00      1.00      1.00         4\n",
            "          24       0.99      0.94      0.96        94\n",
            "          25       0.81      0.83      0.82        69\n",
            "          26       1.00      0.99      1.00       106\n",
            "          27       0.00      0.00      0.00         5\n",
            "\n",
            "    accuracy                           0.96      3933\n",
            "   macro avg       0.92      0.82      0.85      3933\n",
            "weighted avg       0.96      0.96      0.96      3933\n",
            "\n"
          ],
          "name": "stdout"
        },
        {
          "output_type": "stream",
          "text": [
            "/usr/local/lib/python3.7/dist-packages/sklearn/metrics/_classification.py:1272: UndefinedMetricWarning: Precision and F-score are ill-defined and being set to 0.0 in labels with no predicted samples. Use `zero_division` parameter to control this behavior.\n",
            "  _warn_prf(average, modifier, msg_start, len(result))\n"
          ],
          "name": "stderr"
        }
      ]
    },
    {
      "cell_type": "code",
      "metadata": {
        "colab": {
          "base_uri": "https://localhost:8080/"
        },
        "id": "RpXoUzAXF_5F",
        "outputId": "0f2146a1-ec49-43dd-865d-d6ecb483850d"
      },
      "source": [
        "clf6.fit(X_train_tfidf,y_train_tfidf)\n",
        "y_test_pred_tfidf = clf6.predict(X_test_tfidf)\n",
        "print(classification_report(y_test_tfidf,y_test_pred_tfidf))"
      ],
      "execution_count": null,
      "outputs": [
        {
          "output_type": "stream",
          "text": [
            "              precision    recall  f1-score   support\n",
            "\n",
            "           0       0.98      0.98      0.98       181\n",
            "           1       0.95      0.85      0.89       110\n",
            "           2       0.93      0.97      0.95        38\n",
            "           3       0.98      0.98      0.98       147\n",
            "           4       1.00      0.95      0.97        20\n",
            "           5       0.99      1.00      0.99      1207\n",
            "           6       0.98      0.94      0.96       131\n",
            "           8       0.99      0.99      0.99       259\n",
            "           9       0.97      0.97      0.97        38\n",
            "          10       1.00      0.83      0.91         6\n",
            "          11       1.00      1.00      1.00        11\n",
            "          12       0.50      0.20      0.29         5\n",
            "          13       0.96      0.99      0.98       187\n",
            "          14       0.50      0.67      0.57         3\n",
            "          15       0.95      1.00      0.98       143\n",
            "          16       1.00      0.68      0.81        19\n",
            "          17       1.00      1.00      1.00       690\n",
            "          18       0.98      0.97      0.97       131\n",
            "          19       0.96      0.99      0.98       223\n",
            "          20       0.86      0.88      0.87        65\n",
            "          21       1.00      1.00      1.00         7\n",
            "          22       0.94      0.94      0.94        34\n",
            "          23       1.00      1.00      1.00         4\n",
            "          24       0.98      0.98      0.98        94\n",
            "          25       0.89      0.84      0.87        69\n",
            "          26       1.00      1.00      1.00       106\n",
            "          27       0.00      0.00      0.00         5\n",
            "\n",
            "    accuracy                           0.98      3933\n",
            "   macro avg       0.90      0.87      0.88      3933\n",
            "weighted avg       0.98      0.98      0.98      3933\n",
            "\n"
          ],
          "name": "stdout"
        },
        {
          "output_type": "stream",
          "text": [
            "/usr/local/lib/python3.7/dist-packages/sklearn/metrics/_classification.py:1272: UndefinedMetricWarning: Precision and F-score are ill-defined and being set to 0.0 in labels with no predicted samples. Use `zero_division` parameter to control this behavior.\n",
            "  _warn_prf(average, modifier, msg_start, len(result))\n"
          ],
          "name": "stderr"
        }
      ]
    },
    {
      "cell_type": "markdown",
      "metadata": {
        "id": "pA0thdSRF_5F"
      },
      "source": [
        "### Deep Learning algorithms"
      ]
    },
    {
      "cell_type": "code",
      "metadata": {
        "id": "I-vbuDWtF_5F"
      },
      "source": [
        "from keras.preprocessing.text import Tokenizer\n",
        "from keras.utils import np_utils\n",
        "from keras.preprocessing.sequence import pad_sequences\n",
        "from keras.models import Sequential\n",
        "from keras.layers import Dense\n",
        "from keras.layers import Flatten\n",
        "from keras.layers.embeddings import Embedding\n",
        "from nltk.tokenize import word_tokenize"
      ],
      "execution_count": null,
      "outputs": []
    },
    {
      "cell_type": "code",
      "metadata": {
        "id": "CguezpKpF_5G"
      },
      "source": [
        "tkz = Tokenizer()\n",
        "tkz.fit_on_texts(feature_text)"
      ],
      "execution_count": null,
      "outputs": []
    },
    {
      "cell_type": "code",
      "metadata": {
        "id": "18qm1ffsF_5G"
      },
      "source": [
        "vocab_length = len(tkz.word_index) + 1\n",
        "embd_sent = tkz.texts_to_sequences(feature_text)"
      ],
      "execution_count": null,
      "outputs": []
    },
    {
      "cell_type": "code",
      "metadata": {
        "colab": {
          "base_uri": "https://localhost:8080/"
        },
        "id": "5skoqSTWF_5G",
        "outputId": "ef8011b4-f781-43ed-8ce6-fcb69a206e80"
      },
      "source": [
        "vocab_length"
      ],
      "execution_count": null,
      "outputs": [
        {
          "output_type": "execute_result",
          "data": {
            "text/plain": [
              "19878"
            ]
          },
          "metadata": {
            "tags": []
          },
          "execution_count": 39
        }
      ]
    },
    {
      "cell_type": "code",
      "metadata": {
        "id": "NJXWEz7KF_5H"
      },
      "source": [
        "longest_sent_len = max([ len(x.split()) for x in feature_text])"
      ],
      "execution_count": null,
      "outputs": []
    },
    {
      "cell_type": "code",
      "metadata": {
        "id": "r5JHoyfWF_5H"
      },
      "source": [
        "pad_sent = pad_sequences(embd_sent, longest_sent_len, padding='post')"
      ],
      "execution_count": null,
      "outputs": []
    },
    {
      "cell_type": "code",
      "metadata": {
        "id": "2e_7rXG7F_5H"
      },
      "source": [
        "embd_dict = dict()"
      ],
      "execution_count": null,
      "outputs": []
    },
    {
      "cell_type": "code",
      "metadata": {
        "id": "QRL7xw_yF_5H"
      },
      "source": [
        "with open('/content/drive/MyDrive/Colab Notebooks/glove.6B.50d.txt', encoding=\"utf8\") as glove_file:\n",
        "    for line in glove_file:\n",
        "        line = glove_file.readline()\n",
        "        records = line.split()\n",
        "        word = records[0]\n",
        "        vec = np.asarray(records[1:], dtype='float32')\n",
        "        embd_dict[word] = vec\n"
      ],
      "execution_count": null,
      "outputs": []
    },
    {
      "cell_type": "code",
      "metadata": {
        "colab": {
          "base_uri": "https://localhost:8080/"
        },
        "id": "XA95lM2BF_5I",
        "outputId": "ab0f0253-1d25-4669-83f8-d6557b3b59fb"
      },
      "source": [
        "len(embd_dict.keys())"
      ],
      "execution_count": null,
      "outputs": [
        {
          "output_type": "execute_result",
          "data": {
            "text/plain": [
              "200000"
            ]
          },
          "metadata": {
            "tags": []
          },
          "execution_count": 44
        }
      ]
    },
    {
      "cell_type": "code",
      "metadata": {
        "id": "XStJaQiNF_5I"
      },
      "source": [
        "embd_matrix = np.zeros((vocab_length, 50))\n",
        "for word, index in tkz.word_index.items():\n",
        "    embd_vec = embd_dict.get(word)\n",
        "    if embd_vec is not None:\n",
        "        embd_matrix[index] = embd_vec"
      ],
      "execution_count": null,
      "outputs": []
    },
    {
      "cell_type": "code",
      "metadata": {
        "colab": {
          "base_uri": "https://localhost:8080/"
        },
        "id": "Z7VcXdaLF_5I",
        "outputId": "db0b53fb-9193-4a29-c5c7-6e62744e15ba"
      },
      "source": [
        "len(embd_matrix)"
      ],
      "execution_count": null,
      "outputs": [
        {
          "output_type": "execute_result",
          "data": {
            "text/plain": [
              "19878"
            ]
          },
          "metadata": {
            "tags": []
          },
          "execution_count": 46
        }
      ]
    },
    {
      "cell_type": "code",
      "metadata": {
        "colab": {
          "base_uri": "https://localhost:8080/"
        },
        "id": "SfqQkfYSF_5J",
        "outputId": "2050bef8-5087-471f-801a-b4108ef8f9dc"
      },
      "source": [
        "class_count = len(classes)\n",
        "class_count"
      ],
      "execution_count": null,
      "outputs": [
        {
          "output_type": "execute_result",
          "data": {
            "text/plain": [
              "28"
            ]
          },
          "metadata": {
            "tags": []
          },
          "execution_count": 47
        }
      ]
    },
    {
      "cell_type": "code",
      "metadata": {
        "colab": {
          "base_uri": "https://localhost:8080/"
        },
        "id": "cn8qto1pF_5J",
        "outputId": "ee2d26a5-74b3-469d-ba2c-d436fac642f5"
      },
      "source": [
        "model = Sequential()\n",
        "embedding_layer = Embedding(vocab_length, 50, weights=[embd_matrix], input_length=longest_sent_len, trainable=False)\n",
        "model.add(embedding_layer)\n",
        "model.add(Flatten())\n",
        "model.add(Dense(8, input_dim=4, activation='relu'))\n",
        "model.add(Dense(class_count, activation='softmax'))\n",
        "model.compile(optimizer='adam', loss='binary_crossentropy', metrics=['acc'])\n",
        "print(model.summary())"
      ],
      "execution_count": null,
      "outputs": [
        {
          "output_type": "stream",
          "text": [
            "Model: \"sequential\"\n",
            "_________________________________________________________________\n",
            "Layer (type)                 Output Shape              Param #   \n",
            "=================================================================\n",
            "embedding (Embedding)        (None, 516, 50)           993900    \n",
            "_________________________________________________________________\n",
            "flatten (Flatten)            (None, 25800)             0         \n",
            "_________________________________________________________________\n",
            "dense (Dense)                (None, 8)                 206408    \n",
            "_________________________________________________________________\n",
            "dense_1 (Dense)              (None, 28)                252       \n",
            "=================================================================\n",
            "Total params: 1,200,560\n",
            "Trainable params: 206,660\n",
            "Non-trainable params: 993,900\n",
            "_________________________________________________________________\n",
            "None\n"
          ],
          "name": "stdout"
        }
      ]
    },
    {
      "cell_type": "code",
      "metadata": {
        "id": "O6J-R1iRF_5J"
      },
      "source": [
        "dummy_label = np_utils.to_categorical(label)"
      ],
      "execution_count": null,
      "outputs": []
    },
    {
      "cell_type": "code",
      "metadata": {
        "id": "qPDc_I21F_5J"
      },
      "source": [
        "X_train, X_test, y_train, y_test = train_test_split(pad_sent, dummy_label, test_size=0.2, random_state=42)"
      ],
      "execution_count": null,
      "outputs": []
    },
    {
      "cell_type": "code",
      "metadata": {
        "colab": {
          "base_uri": "https://localhost:8080/"
        },
        "id": "uNLqf5jNF_5K",
        "outputId": "fdd3b134-d5ab-4d1f-b744-35369015d588"
      },
      "source": [
        "model.fit(X_train, y_train, epochs=100, verbose=1)"
      ],
      "execution_count": null,
      "outputs": [
        {
          "output_type": "stream",
          "text": [
            "Epoch 1/100\n",
            "492/492 [==============================] - 5s 9ms/step - loss: 0.2497 - acc: 0.3896\n",
            "Epoch 2/100\n",
            "492/492 [==============================] - 4s 9ms/step - loss: 0.0637 - acc: 0.7185\n",
            "Epoch 3/100\n",
            "492/492 [==============================] - 4s 9ms/step - loss: 0.0474 - acc: 0.8054\n",
            "Epoch 4/100\n",
            "492/492 [==============================] - 4s 9ms/step - loss: 0.0373 - acc: 0.8525\n",
            "Epoch 5/100\n",
            "492/492 [==============================] - 4s 9ms/step - loss: 0.0306 - acc: 0.8738\n",
            "Epoch 6/100\n",
            "492/492 [==============================] - 4s 8ms/step - loss: 0.0253 - acc: 0.8960\n",
            "Epoch 7/100\n",
            "492/492 [==============================] - 4s 8ms/step - loss: 0.0231 - acc: 0.9065\n",
            "Epoch 8/100\n",
            "492/492 [==============================] - 4s 9ms/step - loss: 0.0208 - acc: 0.9161\n",
            "Epoch 9/100\n",
            "492/492 [==============================] - 4s 8ms/step - loss: 0.0188 - acc: 0.9239\n",
            "Epoch 10/100\n",
            "492/492 [==============================] - 4s 8ms/step - loss: 0.0177 - acc: 0.9285\n",
            "Epoch 11/100\n",
            "492/492 [==============================] - 4s 8ms/step - loss: 0.0167 - acc: 0.9345\n",
            "Epoch 12/100\n",
            "492/492 [==============================] - 4s 8ms/step - loss: 0.0155 - acc: 0.9409\n",
            "Epoch 13/100\n",
            "492/492 [==============================] - 4s 8ms/step - loss: 0.0142 - acc: 0.9457\n",
            "Epoch 14/100\n",
            "492/492 [==============================] - 4s 8ms/step - loss: 0.0137 - acc: 0.9492\n",
            "Epoch 15/100\n",
            "492/492 [==============================] - 4s 8ms/step - loss: 0.0136 - acc: 0.9524\n",
            "Epoch 16/100\n",
            "492/492 [==============================] - 4s 8ms/step - loss: 0.0124 - acc: 0.9564\n",
            "Epoch 17/100\n",
            "492/492 [==============================] - 3s 6ms/step - loss: 0.0117 - acc: 0.9574\n",
            "Epoch 18/100\n",
            "492/492 [==============================] - 3s 6ms/step - loss: 0.0111 - acc: 0.9580\n",
            "Epoch 19/100\n",
            "492/492 [==============================] - 3s 6ms/step - loss: 0.0106 - acc: 0.9620\n",
            "Epoch 20/100\n",
            "492/492 [==============================] - 3s 5ms/step - loss: 0.0098 - acc: 0.9662\n",
            "Epoch 21/100\n",
            "492/492 [==============================] - 3s 7ms/step - loss: 0.0094 - acc: 0.9672\n",
            "Epoch 22/100\n",
            "492/492 [==============================] - 4s 8ms/step - loss: 0.0092 - acc: 0.9711\n",
            "Epoch 23/100\n",
            "492/492 [==============================] - 4s 9ms/step - loss: 0.0093 - acc: 0.9691\n",
            "Epoch 24/100\n",
            "492/492 [==============================] - 4s 9ms/step - loss: 0.0098 - acc: 0.9690\n",
            "Epoch 25/100\n",
            "492/492 [==============================] - 5s 9ms/step - loss: 0.0095 - acc: 0.9700\n",
            "Epoch 26/100\n",
            "492/492 [==============================] - 4s 9ms/step - loss: 0.0084 - acc: 0.9741\n",
            "Epoch 27/100\n",
            "492/492 [==============================] - 4s 9ms/step - loss: 0.0086 - acc: 0.9736\n",
            "Epoch 28/100\n",
            "492/492 [==============================] - 4s 9ms/step - loss: 0.0080 - acc: 0.9760\n",
            "Epoch 29/100\n",
            "492/492 [==============================] - 4s 8ms/step - loss: 0.0078 - acc: 0.9729\n",
            "Epoch 30/100\n",
            "492/492 [==============================] - 4s 8ms/step - loss: 0.0070 - acc: 0.9780\n",
            "Epoch 31/100\n",
            "492/492 [==============================] - 4s 9ms/step - loss: 0.0073 - acc: 0.9755\n",
            "Epoch 32/100\n",
            "492/492 [==============================] - 4s 9ms/step - loss: 0.0077 - acc: 0.9781\n",
            "Epoch 33/100\n",
            "492/492 [==============================] - 4s 9ms/step - loss: 0.0077 - acc: 0.9748\n",
            "Epoch 34/100\n",
            "492/492 [==============================] - 4s 9ms/step - loss: 0.0076 - acc: 0.9786\n",
            "Epoch 35/100\n",
            "492/492 [==============================] - 4s 8ms/step - loss: 0.0073 - acc: 0.9780\n",
            "Epoch 36/100\n",
            "492/492 [==============================] - 4s 8ms/step - loss: 0.0070 - acc: 0.9786\n",
            "Epoch 37/100\n",
            "492/492 [==============================] - 4s 8ms/step - loss: 0.0064 - acc: 0.9780\n",
            "Epoch 38/100\n",
            "492/492 [==============================] - 4s 7ms/step - loss: 0.0063 - acc: 0.9811\n",
            "Epoch 39/100\n",
            "492/492 [==============================] - 4s 7ms/step - loss: 0.0061 - acc: 0.9805\n",
            "Epoch 40/100\n",
            "492/492 [==============================] - 4s 7ms/step - loss: 0.0058 - acc: 0.9813\n",
            "Epoch 41/100\n",
            "492/492 [==============================] - 4s 8ms/step - loss: 0.0063 - acc: 0.9798\n",
            "Epoch 42/100\n",
            "492/492 [==============================] - 4s 8ms/step - loss: 0.0068 - acc: 0.9788\n",
            "Epoch 43/100\n",
            "492/492 [==============================] - 4s 9ms/step - loss: 0.0058 - acc: 0.9825\n",
            "Epoch 44/100\n",
            "492/492 [==============================] - 4s 9ms/step - loss: 0.0061 - acc: 0.9801\n",
            "Epoch 45/100\n",
            "492/492 [==============================] - 4s 9ms/step - loss: 0.0057 - acc: 0.9804\n",
            "Epoch 46/100\n",
            "492/492 [==============================] - 4s 9ms/step - loss: 0.0051 - acc: 0.9834\n",
            "Epoch 47/100\n",
            "492/492 [==============================] - 4s 9ms/step - loss: 0.0063 - acc: 0.9804\n",
            "Epoch 48/100\n",
            "492/492 [==============================] - 5s 10ms/step - loss: 0.0061 - acc: 0.9834\n",
            "Epoch 49/100\n",
            "492/492 [==============================] - 5s 10ms/step - loss: 0.0055 - acc: 0.9850\n",
            "Epoch 50/100\n",
            "492/492 [==============================] - 4s 9ms/step - loss: 0.0050 - acc: 0.9829\n",
            "Epoch 51/100\n",
            "492/492 [==============================] - 4s 9ms/step - loss: 0.0051 - acc: 0.9846\n",
            "Epoch 52/100\n",
            "492/492 [==============================] - 4s 9ms/step - loss: 0.0055 - acc: 0.9844\n",
            "Epoch 53/100\n",
            "492/492 [==============================] - 4s 9ms/step - loss: 0.0053 - acc: 0.9843\n",
            "Epoch 54/100\n",
            "492/492 [==============================] - 4s 9ms/step - loss: 0.0054 - acc: 0.9852\n",
            "Epoch 55/100\n",
            "492/492 [==============================] - 4s 9ms/step - loss: 0.0046 - acc: 0.9857\n",
            "Epoch 56/100\n",
            "492/492 [==============================] - 5s 9ms/step - loss: 0.0051 - acc: 0.9826\n",
            "Epoch 57/100\n",
            "492/492 [==============================] - 4s 9ms/step - loss: 0.0046 - acc: 0.9844\n",
            "Epoch 58/100\n",
            "492/492 [==============================] - 4s 9ms/step - loss: 0.0047 - acc: 0.9845\n",
            "Epoch 59/100\n",
            "492/492 [==============================] - 4s 9ms/step - loss: 0.0044 - acc: 0.9870\n",
            "Epoch 60/100\n",
            "492/492 [==============================] - 4s 9ms/step - loss: 0.0048 - acc: 0.9841\n",
            "Epoch 61/100\n",
            "492/492 [==============================] - 4s 9ms/step - loss: 0.0049 - acc: 0.9858\n",
            "Epoch 62/100\n",
            "492/492 [==============================] - 5s 9ms/step - loss: 0.0042 - acc: 0.9848\n",
            "Epoch 63/100\n",
            "492/492 [==============================] - 5s 9ms/step - loss: 0.0045 - acc: 0.9857\n",
            "Epoch 64/100\n",
            "492/492 [==============================] - 4s 9ms/step - loss: 0.0046 - acc: 0.9846\n",
            "Epoch 65/100\n",
            "492/492 [==============================] - 4s 9ms/step - loss: 0.0050 - acc: 0.9860\n",
            "Epoch 66/100\n",
            "492/492 [==============================] - 5s 9ms/step - loss: 0.0043 - acc: 0.9864\n",
            "Epoch 67/100\n",
            "492/492 [==============================] - 4s 9ms/step - loss: 0.0045 - acc: 0.9876\n",
            "Epoch 68/100\n",
            "492/492 [==============================] - 4s 9ms/step - loss: 0.0046 - acc: 0.9864\n",
            "Epoch 69/100\n",
            "492/492 [==============================] - 4s 9ms/step - loss: 0.0043 - acc: 0.9863\n",
            "Epoch 70/100\n",
            "492/492 [==============================] - 5s 9ms/step - loss: 0.0040 - acc: 0.9872\n",
            "Epoch 71/100\n",
            "492/492 [==============================] - 4s 9ms/step - loss: 0.0036 - acc: 0.9887\n",
            "Epoch 72/100\n",
            "492/492 [==============================] - 4s 9ms/step - loss: 0.0039 - acc: 0.9868\n",
            "Epoch 73/100\n",
            "492/492 [==============================] - 4s 9ms/step - loss: 0.0043 - acc: 0.9841\n",
            "Epoch 74/100\n",
            "492/492 [==============================] - 4s 9ms/step - loss: 0.0037 - acc: 0.9877\n",
            "Epoch 75/100\n",
            "492/492 [==============================] - 4s 9ms/step - loss: 0.0041 - acc: 0.9885\n",
            "Epoch 76/100\n",
            "492/492 [==============================] - 5s 9ms/step - loss: 0.0043 - acc: 0.9882\n",
            "Epoch 77/100\n",
            "492/492 [==============================] - 4s 9ms/step - loss: 0.0045 - acc: 0.9878\n",
            "Epoch 78/100\n",
            "492/492 [==============================] - 4s 9ms/step - loss: 0.0043 - acc: 0.9873\n",
            "Epoch 79/100\n",
            "492/492 [==============================] - 4s 9ms/step - loss: 0.0038 - acc: 0.9874\n",
            "Epoch 80/100\n",
            "492/492 [==============================] - 4s 9ms/step - loss: 0.0040 - acc: 0.9879\n",
            "Epoch 81/100\n",
            "492/492 [==============================] - 4s 9ms/step - loss: 0.0037 - acc: 0.9887\n",
            "Epoch 82/100\n",
            "492/492 [==============================] - 4s 9ms/step - loss: 0.0042 - acc: 0.9878\n",
            "Epoch 83/100\n",
            "492/492 [==============================] - 4s 9ms/step - loss: 0.0042 - acc: 0.9888\n",
            "Epoch 84/100\n",
            "492/492 [==============================] - 4s 9ms/step - loss: 0.0036 - acc: 0.9882\n",
            "Epoch 85/100\n",
            "492/492 [==============================] - 4s 9ms/step - loss: 0.0039 - acc: 0.9897\n",
            "Epoch 86/100\n",
            "492/492 [==============================] - 4s 9ms/step - loss: 0.0032 - acc: 0.9884\n",
            "Epoch 87/100\n",
            "492/492 [==============================] - 4s 9ms/step - loss: 0.0038 - acc: 0.9886\n",
            "Epoch 88/100\n",
            "492/492 [==============================] - 4s 9ms/step - loss: 0.0033 - acc: 0.9900\n",
            "Epoch 89/100\n",
            "492/492 [==============================] - 4s 9ms/step - loss: 0.0047 - acc: 0.9868\n",
            "Epoch 90/100\n",
            "492/492 [==============================] - 5s 9ms/step - loss: 0.0042 - acc: 0.9875\n",
            "Epoch 91/100\n",
            "492/492 [==============================] - 4s 9ms/step - loss: 0.0035 - acc: 0.9899\n",
            "Epoch 92/100\n",
            "492/492 [==============================] - 4s 9ms/step - loss: 0.0033 - acc: 0.9895\n",
            "Epoch 93/100\n",
            "492/492 [==============================] - 4s 9ms/step - loss: 0.0033 - acc: 0.9886\n",
            "Epoch 94/100\n",
            "492/492 [==============================] - 4s 9ms/step - loss: 0.0034 - acc: 0.9899\n",
            "Epoch 95/100\n",
            "492/492 [==============================] - 4s 9ms/step - loss: 0.0033 - acc: 0.9894\n",
            "Epoch 96/100\n",
            "492/492 [==============================] - 4s 9ms/step - loss: 0.0032 - acc: 0.9894\n",
            "Epoch 97/100\n",
            "492/492 [==============================] - 4s 9ms/step - loss: 0.0034 - acc: 0.9883\n",
            "Epoch 98/100\n",
            "492/492 [==============================] - 4s 9ms/step - loss: 0.0029 - acc: 0.9911\n",
            "Epoch 99/100\n",
            "492/492 [==============================] - 4s 9ms/step - loss: 0.0033 - acc: 0.9900\n",
            "Epoch 100/100\n",
            "492/492 [==============================] - 4s 9ms/step - loss: 0.0032 - acc: 0.9900\n"
          ],
          "name": "stdout"
        },
        {
          "output_type": "execute_result",
          "data": {
            "text/plain": [
              "<tensorflow.python.keras.callbacks.History at 0x7ff4286fc2d0>"
            ]
          },
          "metadata": {
            "tags": []
          },
          "execution_count": 51
        }
      ]
    },
    {
      "cell_type": "code",
      "metadata": {
        "id": "ATqLCXX3F_5K"
      },
      "source": [
        "model.save(\"main_cat_model.h5\")"
      ],
      "execution_count": null,
      "outputs": []
    },
    {
      "cell_type": "code",
      "metadata": {
        "colab": {
          "base_uri": "https://localhost:8080/"
        },
        "id": "5JMYoTKxF_5K",
        "outputId": "6deeb5b6-ad54-46da-97be-cefdfd5d18e2"
      },
      "source": [
        "loss, accuracy = model.evaluate(X_test, y_test, verbose=0)\n",
        "print('Accuracy: %f' % (accuracy*100))"
      ],
      "execution_count": null,
      "outputs": [
        {
          "output_type": "stream",
          "text": [
            "Accuracy: 84.057969\n"
          ],
          "name": "stdout"
        }
      ]
    },
    {
      "cell_type": "code",
      "metadata": {
        "colab": {
          "base_uri": "https://localhost:8080/"
        },
        "id": "CZ0V55ZKPbyA",
        "outputId": "94d56c28-961e-414b-88f6-191fd0bd0c86"
      },
      "source": [
        "print(y_test)"
      ],
      "execution_count": null,
      "outputs": [
        {
          "output_type": "stream",
          "text": [
            "[[0. 0. 0. ... 0. 0. 0.]\n",
            " [0. 0. 0. ... 0. 0. 0.]\n",
            " [0. 0. 0. ... 0. 0. 0.]\n",
            " ...\n",
            " [0. 0. 0. ... 0. 1. 0.]\n",
            " [0. 0. 0. ... 0. 0. 0.]\n",
            " [0. 0. 0. ... 0. 0. 0.]]\n"
          ],
          "name": "stdout"
        }
      ]
    },
    {
      "cell_type": "code",
      "metadata": {
        "colab": {
          "base_uri": "https://localhost:8080/"
        },
        "id": "Je5iq97FJmGu",
        "outputId": "bbc91b74-af63-4134-b769-02141ad0edc1"
      },
      "source": [
        "y_test_pred = model.predict_classes(X_test)\n",
        "print(classification_report( np.argmax(y_test, axis=1),y_test_pred))"
      ],
      "execution_count": null,
      "outputs": [
        {
          "output_type": "stream",
          "text": [
            "/usr/local/lib/python3.7/dist-packages/tensorflow/python/keras/engine/sequential.py:450: UserWarning: `model.predict_classes()` is deprecated and will be removed after 2021-01-01. Please use instead:* `np.argmax(model.predict(x), axis=-1)`,   if your model does multi-class classification   (e.g. if it uses a `softmax` last-layer activation).* `(model.predict(x) > 0.5).astype(\"int32\")`,   if your model does binary classification   (e.g. if it uses a `sigmoid` last-layer activation).\n",
            "  warnings.warn('`model.predict_classes()` is deprecated and '\n"
          ],
          "name": "stderr"
        },
        {
          "output_type": "stream",
          "text": [
            "              precision    recall  f1-score   support\n",
            "\n",
            "           0       0.85      0.88      0.87       181\n",
            "           1       0.68      0.59      0.63       110\n",
            "           2       0.61      0.71      0.66        38\n",
            "           3       0.73      0.71      0.72       147\n",
            "           4       0.82      0.70      0.76        20\n",
            "           5       0.94      0.96      0.95      1207\n",
            "           6       0.81      0.85      0.83       131\n",
            "           8       0.85      0.74      0.79       259\n",
            "           9       0.97      0.74      0.84        38\n",
            "          10       0.29      0.33      0.31         6\n",
            "          11       0.19      0.36      0.25        11\n",
            "          12       0.00      0.00      0.00         5\n",
            "          13       0.72      0.75      0.74       187\n",
            "          14       0.00      0.00      0.00         3\n",
            "          15       0.79      0.78      0.78       143\n",
            "          16       0.24      0.21      0.22        19\n",
            "          17       0.90      0.94      0.92       690\n",
            "          18       0.70      0.71      0.71       131\n",
            "          19       0.89      0.88      0.88       223\n",
            "          20       0.55      0.51      0.53        65\n",
            "          21       1.00      0.43      0.60         7\n",
            "          22       0.53      0.53      0.53        34\n",
            "          23       0.50      0.25      0.33         4\n",
            "          24       0.83      0.78      0.80        94\n",
            "          25       0.43      0.42      0.43        69\n",
            "          26       0.87      0.92      0.89       106\n",
            "          27       0.00      0.00      0.00         5\n",
            "\n",
            "    accuracy                           0.84      3933\n",
            "   macro avg       0.62      0.58      0.59      3933\n",
            "weighted avg       0.84      0.84      0.84      3933\n",
            "\n"
          ],
          "name": "stdout"
        },
        {
          "output_type": "stream",
          "text": [
            "/usr/local/lib/python3.7/dist-packages/sklearn/metrics/_classification.py:1272: UndefinedMetricWarning: Precision and F-score are ill-defined and being set to 0.0 in labels with no predicted samples. Use `zero_division` parameter to control this behavior.\n",
            "  _warn_prf(average, modifier, msg_start, len(result))\n"
          ],
          "name": "stderr"
        }
      ]
    }
  ]
}